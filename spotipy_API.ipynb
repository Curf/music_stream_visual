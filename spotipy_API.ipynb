{
 "cells": [
  {
   "cell_type": "markdown",
   "metadata": {},
   "source": [
    "---\n",
    "### CREATING ARTIST METADATA DATAFRAME"
   ]
  },
  {
   "cell_type": "code",
   "execution_count": 2,
   "metadata": {},
   "outputs": [],
   "source": [
    "import spotipy\n",
    "import sys\n",
    "from pprint import pprint\n",
    "from spotipy.oauth2 import SpotifyClientCredentials\n",
    "import pandas as pd\n",
    "\n",
    "import requests\n",
    "import json"
   ]
  },
  {
   "cell_type": "code",
   "execution_count": 3,
   "metadata": {},
   "outputs": [],
   "source": [
    "import spotipy.util as util"
   ]
  },
  {
   "cell_type": "code",
   "execution_count": 6,
   "metadata": {},
   "outputs": [],
   "source": [
    "CLIENT_ID = ''\n",
    "CLIENT_SECRET = ''"
   ]
  },
  {
   "cell_type": "code",
   "execution_count": 7,
   "metadata": {},
   "outputs": [],
   "source": [
    "AUTH_URL = 'https://accounts.spotify.com/api/token'\n",
    "\n",
    "# POST\n",
    "auth_response = requests.post(AUTH_URL, {\n",
    "    'grant_type': 'client_credentials',\n",
    "    'client_id': CLIENT_ID,\n",
    "    'client_secret': CLIENT_SECRET,\n",
    "})\n",
    "\n",
    "# convert the response to JSON\n",
    "auth_response_data = auth_response.json()\n",
    "\n",
    "# save the access token\n",
    "access_token = auth_response_data['access_token']"
   ]
  },
  {
   "cell_type": "code",
   "execution_count": 8,
   "metadata": {},
   "outputs": [],
   "source": [
    "sp = spotipy.Spotify(client_credentials_manager=SpotifyClientCredentials('', ''))"
   ]
  },
  {
   "cell_type": "code",
   "execution_count": 11,
   "metadata": {},
   "outputs": [],
   "source": [
    "#load created dataframe of 2020 only steaming data\n",
    "NEW_YEAR_STREAM=pd.read_csv('./data/stream_2020.csv', index_col=0)"
   ]
  },
  {
   "cell_type": "markdown",
   "metadata": {},
   "source": [
    "---\n",
    "### Grabbing the genres for each artist - Searching through Spotify API return of artists and recording all of the associated genres\n",
    "- Had to add a lot of conditional statements to handle many instances where there were no genres listed and also skip duplicates - probably a better way to do this so I'll clean it up later"
   ]
  },
  {
   "cell_type": "code",
   "execution_count": 14,
   "metadata": {},
   "outputs": [],
   "source": [
    "ARTISTS_list=[]\n",
    "\n",
    "\n",
    "for artist_i in NEW_YEAR_STREAM['artistName'].unique():\n",
    "    \n",
    "    if artist_i in ARTISTS_METADATA['ARTIST']:\n",
    "        #print(artist_i)\n",
    "        ARTISTS_list.append(list(ARTISTS_METADATA.loc[artist_i].values))\n",
    "        pass\n",
    "    else:\n",
    "        result = sp.search('artist:'+artist_i, type='artist', limit=50)\n",
    "        genre_i=None\n",
    "        id_i = None\n",
    "        p=0\n",
    "      #  print(len(ARTISTS_list))\n",
    "        for i in result['artists']['items']:\n",
    "            if genre_i != None:\n",
    "                break\n",
    "            elif (i['name']==artist_i) and (i['genres'] !=[]):\n",
    "                genre_i=i['genres']\n",
    "                id_i=i['id']\n",
    "                ARTISTS_list.append([artist_i, i['genres'], i['id']])\n",
    "                p=1\n",
    "\n",
    "        if (genre_i is None) and (p==1):\n",
    "            #print artists with no associated info\n",
    "            print(artist_i)\n",
    "            id_i=i['id']\n",
    "            ARTISTS_list.append([artist_i, [], id_i])\n",
    "        elif (genre_i is None):\n",
    "            id_i=i['id']\n",
    "            ARTISTS_list.append([artist_i, [], id_i])\n",
    "    "
   ]
  },
  {
   "cell_type": "markdown",
   "metadata": {},
   "source": [
    "---\n",
    "#### Put the artists info into a pandas df for easier use and saving"
   ]
  },
  {
   "cell_type": "code",
   "execution_count": 17,
   "metadata": {},
   "outputs": [],
   "source": [
    "artist_metadata=pd.DataFrame(ARTISTS_list, columns=['ARTIST', 'GENRES', 'ID'])\n",
    "artist_metadata.index=artist_metadata['ARTIST']"
   ]
  },
  {
   "cell_type": "markdown",
   "metadata": {},
   "source": [
    "### SAVE ARTIST_META DATAFRAME"
   ]
  },
  {
   "cell_type": "code",
   "execution_count": 20,
   "metadata": {},
   "outputs": [],
   "source": [
    "artist_metadata.to_json('./data/artists_metadata.json')"
   ]
  }
 ],
 "metadata": {
  "kernelspec": {
   "display_name": "Python 3",
   "language": "python",
   "name": "python3"
  },
  "language_info": {
   "codemirror_mode": {
    "name": "ipython",
    "version": 3
   },
   "file_extension": ".py",
   "mimetype": "text/x-python",
   "name": "python",
   "nbconvert_exporter": "python",
   "pygments_lexer": "ipython3",
   "version": "3.7.9"
  }
 },
 "nbformat": 4,
 "nbformat_minor": 4
}

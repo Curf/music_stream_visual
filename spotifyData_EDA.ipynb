{
 "cells": [
  {
   "cell_type": "code",
   "execution_count": 1,
   "metadata": {},
   "outputs": [],
   "source": [
    "import os\n",
    "import pandas as pd\n",
    "from datetime import datetime as dt\n",
    "\n",
    "import altair as alt\n",
    "import numpy as np\n",
    "import matplotlib.pyplot as plt\n",
    "\n",
    "from pprint import pprint\n",
    "import datetime"
   ]
  },
  {
   "cell_type": "code",
   "execution_count": null,
   "metadata": {},
   "outputs": [],
   "source": [
    "file='./data/StreamingHistory.json'"
   ]
  },
  {
   "cell_type": "markdown",
   "metadata": {},
   "source": [
    "#### Grabbing streaming data starting in 2020"
   ]
  },
  {
   "cell_type": "code",
   "execution_count": null,
   "metadata": {},
   "outputs": [],
   "source": [
    "stream=pd.read_json(file)\n",
    "\n",
    "#'endTime' is timestamp that song ended - taking this and 'msPlayed' (miliseconds played) to calculate the timestamp that song started.\n",
    "#this will handle any songs that started before midnight\n",
    "stream['endTime']=pd.to_datetime(stream['endTime'])\n",
    "time_delta_0=np.array([pd.Timedelta(i) for i in stream['msPlayed']])\n",
    "start_0=[]\n",
    "for time_i_0, delta_i_0 in zip(stream['endTime'],time_delta_0):\n",
    "        start_0.append(time_i_0-delta_i_0)\n",
    "stream['startTime']=start_0\n",
    "\n",
    "#fitler out all data that was not in 2020\n",
    "start_2020=dt.strptime('2020-01-01 00:01', '%Y-%m-%d %H:%M')\n",
    "start_2021=dt.strptime('2021-01-01 00:01', '%Y-%m-%d %H:%M')\n",
    "\n",
    "stream_2020=stream[(stream['startTime']>=start_2020)&(stream['startTime']<start_2021)]"
   ]
  },
  {
   "cell_type": "markdown",
   "metadata": {},
   "source": [
    "---\n",
    "### CREATING ARTIST METADATA DATAFRAME/GETTING GENRES\n",
    "#### See Spotify API notebook Metadata df build"
   ]
  },
  {
   "cell_type": "code",
   "execution_count": null,
   "metadata": {},
   "outputs": [],
   "source": [
    "ARTISTS_METADATA=pd.read_json('./data/artists_metadata.json')"
   ]
  },
  {
   "cell_type": "markdown",
   "metadata": {},
   "source": [
    "---\n",
    "##### Report the number of unique genres and the number of times they appear"
   ]
  },
  {
   "cell_type": "code",
   "execution_count": null,
   "metadata": {},
   "outputs": [],
   "source": [
    "UNIQUE_GENRES=[genre_i for genre_list in ARTISTS_METADATA['GENRES'] for genre_i in genre_list]\n",
    "UNIQUE_GENRES=np.unique(UNIQUE_GENRES, return_counts=True)\n",
    "\n",
    "GENRE_COUNTS=dict(zip(UNIQUE_GENRES[0], UNIQUE_GENRES[1]))\n",
    "GENRE_COUNTS=sorted(GENRE_COUNTS.items(), key= lambda x:x[1], reverse=True)\n"
   ]
  },
  {
   "cell_type": "markdown",
   "metadata": {},
   "source": [
    "---\n",
    "\n",
    "### CREATE DF FOR GENRE COUNTS TO ADD TIME TO"
   ]
  },
  {
   "cell_type": "code",
   "execution_count": null,
   "metadata": {},
   "outputs": [],
   "source": [
    "## empty df \n",
    "SEC_GENRE_COUNTS=pd.DataFrame(index=UNIQUE_GENRES[0],columns=(stream_2020['endTime'].unique()))\n",
    "SEC_GENRE_COUNTS=SEC_GENRE_COUNTS.fillna(0.0)"
   ]
  },
  {
   "cell_type": "markdown",
   "metadata": {},
   "source": [
    "---"
   ]
  },
  {
   "cell_type": "markdown",
   "metadata": {},
   "source": [
    "### COUNTING STREAMS"
   ]
  },
  {
   "cell_type": "code",
   "execution_count": null,
   "metadata": {},
   "outputs": [],
   "source": [
    "#loop through each song, take the artist and time played, then add time to the associated genres\n",
    "for sec_i in (stream_2020.index.unique()):\n",
    "   # print(sec_i)\n",
    "    SEC_DF=stream_2020[stream_2020.index==sec_i]\n",
    "\n",
    "    for art_i, stream_time_i in zip(SEC_DF['artistName'],SEC_DF['msPlayed']):\n",
    "\n",
    "        \n",
    "        # Connect to artist metadata to grab the genres associated with them\n",
    "        art_i_genres=SEAN_ARTISTS_METADATA.loc[art_i]['GENRES']\n",
    "        for genre_i in art_i_genres:\n",
    "            #add the time played\n",
    "\n",
    "            SEC_GENRE_COUNTS.loc[genre_i, sec_i]+=stream_time_i\n"
   ]
  },
  {
   "cell_type": "code",
   "execution_count": null,
   "metadata": {},
   "outputs": [],
   "source": [
    "# Correct case of genre titles\n",
    "SEC_GENRE_COUNTS.index=[i.title() for i in SEC_GENRE_COUNTS.index]"
   ]
  },
  {
   "cell_type": "code",
   "execution_count": null,
   "metadata": {},
   "outputs": [],
   "source": [
    "#SAVE\n",
    "SEC_GENRE_COUNTS.to_csv('./genre_listen_counts.csv')\n"
   ]
  }
 ],
 "metadata": {
  "kernelspec": {
   "display_name": "Python 3",
   "language": "python",
   "name": "python3"
  },
  "language_info": {
   "codemirror_mode": {
    "name": "ipython",
    "version": 3
   },
   "file_extension": ".py",
   "mimetype": "text/x-python",
   "name": "python",
   "nbconvert_exporter": "python",
   "pygments_lexer": "ipython3",
   "version": "3.7.9"
  }
 },
 "nbformat": 4,
 "nbformat_minor": 4
}
